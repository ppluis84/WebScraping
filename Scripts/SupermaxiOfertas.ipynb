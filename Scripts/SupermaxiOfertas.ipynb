{
 "cells": [
  {
   "cell_type": "code",
   "execution_count": 6,
   "metadata": {},
   "outputs": [
    {
     "name": "stdout",
     "output_type": "stream",
     "text": [
      "Collecting webdriver_manager\n",
      "  Downloading webdriver_manager-4.0.2-py2.py3-none-any.whl.metadata (12 kB)\n",
      "Requirement already satisfied: requests in c:\\users\\usuario itc\\anaconda3\\lib\\site-packages (from webdriver_manager) (2.32.3)\n",
      "Requirement already satisfied: python-dotenv in c:\\users\\usuario itc\\anaconda3\\lib\\site-packages (from webdriver_manager) (0.21.0)\n",
      "Requirement already satisfied: packaging in c:\\users\\usuario itc\\anaconda3\\lib\\site-packages (from webdriver_manager) (24.1)\n",
      "Requirement already satisfied: charset-normalizer<4,>=2 in c:\\users\\usuario itc\\anaconda3\\lib\\site-packages (from requests->webdriver_manager) (3.3.2)\n",
      "Requirement already satisfied: idna<4,>=2.5 in c:\\users\\usuario itc\\anaconda3\\lib\\site-packages (from requests->webdriver_manager) (3.7)\n",
      "Requirement already satisfied: urllib3<3,>=1.21.1 in c:\\users\\usuario itc\\anaconda3\\lib\\site-packages (from requests->webdriver_manager) (2.2.3)\n",
      "Requirement already satisfied: certifi>=2017.4.17 in c:\\users\\usuario itc\\anaconda3\\lib\\site-packages (from requests->webdriver_manager) (2024.8.30)\n",
      "Downloading webdriver_manager-4.0.2-py2.py3-none-any.whl (27 kB)\n",
      "Installing collected packages: webdriver_manager\n",
      "Successfully installed webdriver_manager-4.0.2\n",
      "Note: you may need to restart the kernel to use updated packages.\n"
     ]
    }
   ],
   "source": [
    "pip install webdriver_manager"
   ]
  },
  {
   "cell_type": "code",
   "execution_count": 7,
   "metadata": {},
   "outputs": [],
   "source": [
    "# Importar dependencias\n",
    "from selenium import webdriver\n",
    "from selenium.webdriver.common.by import By\n",
    "from selenium.webdriver.common.keys import Keys\n",
    "from time import sleep  # Consider using implicit or explicit waits\n",
    "from selenium.webdriver.chrome.options import Options\n",
    "from selenium.webdriver.chrome.service import Service\n",
    "from webdriver_manager.chrome import ChromeDriverManager\n",
    "\n",
    "chromedriver_path = ChromeDriverManager().install()\n",
    "service = Service(chromedriver_path)\n",
    "driver = webdriver.Chrome(service=service)\n",
    "\n",
    "driver.get(\"https://www.supermaxi.com/categoria-producto/promociones/super-ofertas/\")  # Corrected URL\n",
    "#driver.maximize_window()\n",
    "\n",
    "# ... (rest of your login automation code)\n",
    "\n",
    "driver.implicitly_wait(10)  \n"
   ]
  },
  {
   "cell_type": "code",
   "execution_count": 8,
   "metadata": {},
   "outputs": [],
   "source": [
    "producto =[]\n",
    "precio_norm = []\n",
    "precio_ofer = []\n",
    "pagina1 = \"https://www.supermaxi.com/categoria-producto/promociones/super-ofertas/page/\"\n",
    "pagina2 = \"/?utm_medium=paid&utm_source=google&utm_campaign=multiproveedores_ene_2025&gad_source=5&gclid=EAIaIQobChMIref4gKmciwMVaDNECB1pGgcWEAEYASAAEgIx1PD_BwE\"\n",
    "for i in range(1,17):\n",
    "    driver.get(pagina1 + str(i) + pagina2)\n",
    "    productos = driver.find_elements(By.XPATH, '//h2[@class=\"woocommerce-loop-product__title cf_api_loop_title\"]')\n",
    "    for titulo in productos:\n",
    "        producto.append(titulo.text)\n",
    "\n",
    "    precio_normal = driver.find_elements(By.XPATH, '//span[@class=\"cf_api_normal_price_cross\"]')\n",
    "    for titulo in precio_normal:\n",
    "        precio_norm.append(titulo.text)\n",
    "\n",
    "    precio_oferta = driver.find_elements(By.XPATH, '//h5[@class=\"cf_api_regular_price\"]')\n",
    "    for titulo in precio_oferta:\n",
    "        precio_ofer.append(titulo.text)"
   ]
  },
  {
   "cell_type": "code",
   "execution_count": 9,
   "metadata": {},
   "outputs": [
    {
     "data": {
      "application/vnd.microsoft.datawrangler.viewer.v0+json": {
       "columns": [
        {
         "name": "index",
         "rawType": "int64",
         "type": "integer"
        },
        {
         "name": "Productos",
         "rawType": "object",
         "type": "string"
        },
        {
         "name": "Precio Normal",
         "rawType": "float64",
         "type": "float"
        },
        {
         "name": "Precio Oferta",
         "rawType": "float64",
         "type": "float"
        },
        {
         "name": "Ahorro",
         "rawType": "float64",
         "type": "float"
        }
       ],
       "conversionMethod": "pd.DataFrame",
       "ref": "24411d1f-9554-456a-9d2d-1b1ced043513",
       "rows": [
        [
         "0",
         "Joia Concealer Light 1 Unidad",
         "3.15",
         "2.68",
         "0.46999999999999975"
        ],
        [
         "1",
         "Cepimax Kit Ortodoncia (cep+protect+interd)",
         "1.45",
         "1.23",
         "0.21999999999999997"
        ],
        [
         "2",
         "Joia Máscara de Cejas Chocolate 1 Unidad",
         "3.91",
         "3.32",
         "0.5900000000000003"
        ],
        [
         "3",
         "Joia Labial Líquido Nude 1 Unidad",
         "3.37",
         "2.86",
         "0.5100000000000002"
        ],
        [
         "4",
         "Joia Concealer Medium 1 Unidad",
         "3.15",
         "2.68",
         "0.46999999999999975"
        ],
        [
         "5",
         "Joia Labial Líquido Red Carnival 1 Unidad",
         "3.37",
         "2.86",
         "0.5100000000000002"
        ],
        [
         "6",
         "Joia Sombra En Barra Gold 1 Unidad",
         "3.68",
         "3.13",
         "0.5500000000000003"
        ],
        [
         "7",
         "Joia Desmaquillador 1 Unidad",
         "4.58",
         "3.89",
         "0.69"
        ],
        [
         "8",
         "Joia Base Líquida Hazel 1 Unidad",
         "5.16",
         "4.39",
         "0.7700000000000005"
        ],
        [
         "9",
         "Joia Sombra En Barra Pearl 1 Unidad",
         "3.68",
         "3.13",
         "0.5500000000000003"
        ],
        [
         "10",
         "Joia Concealer Dark 1 Unidad",
         "3.65",
         "3.1",
         "0.5499999999999998"
        ],
        [
         "11",
         "Joia Lápiz Delineador de Ojos Negro",
         "3.58",
         "3.04",
         "0.54"
        ],
        [
         "12",
         "Joia Labial Cherry Intense",
         "4.18",
         "3.55",
         "0.6299999999999999"
        ],
        [
         "13",
         "Joia Lápiz Delineador de Ojos Cream Highlighter",
         "3.82",
         "3.25",
         "0.5699999999999998"
        ],
        [
         "14",
         "Joia Lápiz Delineador de Cejas Clear Coffee",
         "3.82",
         "3.25",
         "0.5699999999999998"
        ],
        [
         "15",
         "Sunpro Protector Solar Spf 50 220 ml",
         "13.46",
         "11.44",
         "2.0200000000000014"
        ],
        [
         "16",
         "Joia Labial Sexy Red 1 Unidad",
         "4.18",
         "3.55",
         "0.6299999999999999"
        ],
        [
         "17",
         "Joia Labial Líquido Mate Plum 1 Unidad",
         "3.37",
         "2.86",
         "0.5100000000000002"
        ],
        [
         "18",
         "Joia Corrector Líquido Light Ivory 1 Unidad",
         "4.36",
         "3.71",
         "0.6500000000000004"
        ],
        [
         "19",
         "Joia Base Liquida Soft Beige 1 Unidad",
         "5.16",
         "4.39",
         "0.7700000000000005"
        ],
        [
         "20",
         "Joia Polvo Compacto Caramel 1 Unidad",
         "5.54",
         "4.71",
         "0.8300000000000001"
        ],
        [
         "21",
         "Joia Sombra En Barra Rose 1 Unidad",
         "3.68",
         "3.13",
         "0.5500000000000003"
        ],
        [
         "22",
         "Aromasense Jabón Cremoso Avena 580 ml",
         "6.1",
         "5.19",
         "0.9099999999999993"
        ],
        [
         "23",
         "Protector Solar Sunpro Spf 50 120 ml",
         "8.66",
         "7.36",
         "1.2999999999999998"
        ],
        [
         "24",
         "Supermaxi Detergente Premium Floral 5kg",
         "13.88",
         "11.8",
         "2.08"
        ],
        [
         "25",
         "Aromasense Jabón Líquido Aqua Bam 580 ml",
         "6.1",
         "5.19",
         "0.9099999999999993"
        ],
        [
         "26",
         "Arrurru Shampoo y Baño Líquido 2 en 1 Original",
         "5.56",
         "4.73",
         "0.8299999999999992"
        ],
        [
         "27",
         "Supermaxi Detergente Premium Floral 2kg",
         "5.59",
         "4.75",
         "0.8399999999999999"
        ],
        [
         "28",
         "Protector Solar Sunpro Facial spf 90 50 ml",
         "9.87",
         "8.39",
         "1.4799999999999986"
        ],
        [
         "29",
         "Arrurru Shampoo & Baño Líquido 2 en 1 Delicad...",
         "5.7",
         "4.85",
         "0.8500000000000005"
        ],
        [
         "30",
         "Aromasense Jabón Líquido Frutos Rojos 580 ml",
         "6.1",
         "5.19",
         "0.9099999999999993"
        ],
        [
         "31",
         "Sunpro Bronceador Protección Spf 20 Gel 200 g",
         "8.65",
         "7.35",
         "1.3000000000000007"
        ],
        [
         "32",
         "Gama Shampoo Jojoba y Keratina 400 ml",
         "1.4",
         "1.19",
         "0.20999999999999996"
        ],
        [
         "33",
         "Gama Shampoo de Manzanilla Infantil 500 ml",
         "2.11",
         "1.79",
         "0.31999999999999984"
        ],
        [
         "34",
         "Gama Rinse Jojoba y Keratina 400 ml",
         "1.4",
         "1.19",
         "0.20999999999999996"
        ],
        [
         "35",
         "Gama Shampoo Anticaspa Frasco 400 ml",
         "1.4",
         "1.19",
         "0.20999999999999996"
        ],
        [
         "36",
         "Gama Shampoo Ortiga 1 000 Ml",
         "1.69",
         "1.44",
         "0.25"
        ],
        [
         "37",
         "Gama Shampoo Ultra Hidratante 400 ml",
         "1.84",
         "1.56",
         "0.28"
        ],
        [
         "38",
         "Gama Shampoo Henna 1.000 ml",
         "2.98",
         "2.53",
         "0.4500000000000002"
        ],
        [
         "39",
         "Gama Shampoo Sabila Galón",
         "7.44",
         "6.32",
         "1.12"
        ],
        [
         "40",
         "Gama Shampoo para Bebes Cabello Oscuros 500 ml",
         "1.82",
         "1.55",
         "0.27"
        ],
        [
         "41",
         "Simpli Jabón Líquido Almond Joy Doy Pack 500 ml",
         "1.99",
         "1.69",
         "0.30000000000000004"
        ],
        [
         "42",
         "Simpli Cepillo Dental Adulto Cerda Media",
         "3.29",
         "2.8",
         "0.4900000000000002"
        ],
        [
         "43",
         "Gama Rinse Ultra Hidratante 400 ml",
         "1.84",
         "1.56",
         "0.28"
        ],
        [
         "44",
         "Simpli Jabón Humectante Cremoso x3",
         "2.99",
         "2.54",
         "0.4500000000000002"
        ],
        [
         "45",
         "Simpli Jabón Líquido Berry Sweet 400 ml",
         "2.99",
         "2.54",
         "0.4500000000000002"
        ],
        [
         "46",
         "Simpli Cepillo Dental Kids Cerda Media",
         "3.29",
         "2.8",
         "0.4900000000000002"
        ],
        [
         "47",
         "Simpli Jabón Líquido Almond Joy 400 ml",
         "2.99",
         "2.54",
         "0.4500000000000002"
        ],
        [
         "48",
         "Simpli Jabón Líquido Cedar Forest Men 400 ml",
         "2.99",
         "2.54",
         "0.4500000000000002"
        ],
        [
         "49",
         "Simpli Jabon Liquido Vanilla Dreams Doy Pack 500 m...",
         "1.99",
         "1.69",
         "0.30000000000000004"
        ]
       ],
       "shape": {
        "columns": 4,
        "rows": 319
       }
      },
      "text/html": [
       "<div>\n",
       "<style scoped>\n",
       "    .dataframe tbody tr th:only-of-type {\n",
       "        vertical-align: middle;\n",
       "    }\n",
       "\n",
       "    .dataframe tbody tr th {\n",
       "        vertical-align: top;\n",
       "    }\n",
       "\n",
       "    .dataframe thead th {\n",
       "        text-align: right;\n",
       "    }\n",
       "</style>\n",
       "<table border=\"1\" class=\"dataframe\">\n",
       "  <thead>\n",
       "    <tr style=\"text-align: right;\">\n",
       "      <th></th>\n",
       "      <th>Productos</th>\n",
       "      <th>Precio Normal</th>\n",
       "      <th>Precio Oferta</th>\n",
       "      <th>Ahorro</th>\n",
       "    </tr>\n",
       "  </thead>\n",
       "  <tbody>\n",
       "    <tr>\n",
       "      <th>0</th>\n",
       "      <td>Joia Concealer Light 1 Unidad</td>\n",
       "      <td>3.15</td>\n",
       "      <td>2.68</td>\n",
       "      <td>0.47</td>\n",
       "    </tr>\n",
       "    <tr>\n",
       "      <th>1</th>\n",
       "      <td>Cepimax Kit Ortodoncia (cep+protect+interd)</td>\n",
       "      <td>1.45</td>\n",
       "      <td>1.23</td>\n",
       "      <td>0.22</td>\n",
       "    </tr>\n",
       "    <tr>\n",
       "      <th>2</th>\n",
       "      <td>Joia Máscara de Cejas Chocolate 1 Unidad</td>\n",
       "      <td>3.91</td>\n",
       "      <td>3.32</td>\n",
       "      <td>0.59</td>\n",
       "    </tr>\n",
       "    <tr>\n",
       "      <th>3</th>\n",
       "      <td>Joia Labial Líquido Nude 1 Unidad</td>\n",
       "      <td>3.37</td>\n",
       "      <td>2.86</td>\n",
       "      <td>0.51</td>\n",
       "    </tr>\n",
       "    <tr>\n",
       "      <th>4</th>\n",
       "      <td>Joia Concealer Medium 1 Unidad</td>\n",
       "      <td>3.15</td>\n",
       "      <td>2.68</td>\n",
       "      <td>0.47</td>\n",
       "    </tr>\n",
       "    <tr>\n",
       "      <th>...</th>\n",
       "      <td>...</td>\n",
       "      <td>...</td>\n",
       "      <td>...</td>\n",
       "      <td>...</td>\n",
       "    </tr>\n",
       "    <tr>\n",
       "      <th>314</th>\n",
       "      <td>La Holandesa Queso Holandes Rebanadas 400g</td>\n",
       "      <td>7.29</td>\n",
       "      <td>5.83</td>\n",
       "      <td>1.46</td>\n",
       "    </tr>\n",
       "    <tr>\n",
       "      <th>315</th>\n",
       "      <td>Pingüino Helado Oreo 900ml</td>\n",
       "      <td>4.73</td>\n",
       "      <td>3.78</td>\n",
       "      <td>0.95</td>\n",
       "    </tr>\n",
       "    <tr>\n",
       "      <th>316</th>\n",
       "      <td>Kiosko Queso Mozarella Light 700g</td>\n",
       "      <td>8.57</td>\n",
       "      <td>6.86</td>\n",
       "      <td>1.71</td>\n",
       "    </tr>\n",
       "    <tr>\n",
       "      <th>317</th>\n",
       "      <td>Alpina Finesse Yogurt Aloe Vera 1670g</td>\n",
       "      <td>5.42</td>\n",
       "      <td>4.61</td>\n",
       "      <td>0.81</td>\n",
       "    </tr>\n",
       "    <tr>\n",
       "      <th>318</th>\n",
       "      <td>Pingüino Cereza Gourmet 900ml</td>\n",
       "      <td>4.50</td>\n",
       "      <td>3.78</td>\n",
       "      <td>0.72</td>\n",
       "    </tr>\n",
       "  </tbody>\n",
       "</table>\n",
       "<p>319 rows × 4 columns</p>\n",
       "</div>"
      ],
      "text/plain": [
       "                                       Productos  Precio Normal  \\\n",
       "0                  Joia Concealer Light 1 Unidad           3.15   \n",
       "1    Cepimax Kit Ortodoncia (cep+protect+interd)           1.45   \n",
       "2       Joia Máscara de Cejas Chocolate 1 Unidad           3.91   \n",
       "3              Joia Labial Líquido Nude 1 Unidad           3.37   \n",
       "4                 Joia Concealer Medium 1 Unidad           3.15   \n",
       "..                                           ...            ...   \n",
       "314   La Holandesa Queso Holandes Rebanadas 400g           7.29   \n",
       "315                   Pingüino Helado Oreo 900ml           4.73   \n",
       "316            Kiosko Queso Mozarella Light 700g           8.57   \n",
       "317        Alpina Finesse Yogurt Aloe Vera 1670g           5.42   \n",
       "318                Pingüino Cereza Gourmet 900ml           4.50   \n",
       "\n",
       "     Precio Oferta  Ahorro  \n",
       "0             2.68    0.47  \n",
       "1             1.23    0.22  \n",
       "2             3.32    0.59  \n",
       "3             2.86    0.51  \n",
       "4             2.68    0.47  \n",
       "..             ...     ...  \n",
       "314           5.83    1.46  \n",
       "315           3.78    0.95  \n",
       "316           6.86    1.71  \n",
       "317           4.61    0.81  \n",
       "318           3.78    0.72  \n",
       "\n",
       "[319 rows x 4 columns]"
      ]
     },
     "execution_count": 9,
     "metadata": {},
     "output_type": "execute_result"
    }
   ],
   "source": [
    "import pandas as pd\n",
    "\n",
    "# Creamos un diccionario donde las claves son los nombres de las columnas\n",
    "# y los valores son las listas\n",
    "datos = {'Productos': producto, 'Precio Normal': precio_norm, \"Precio Oferta\":precio_ofer}\n",
    "\n",
    "# Creamos el DataFrame a partir del diccionario\n",
    "df = pd.DataFrame(datos)\n",
    "\n",
    "df[\"Precio Normal\"] = df[\"Precio Normal\"].str[1:]\n",
    "df[\"Precio Oferta\"] = df[\"Precio Oferta\"].str[1:-8]\n",
    "\n",
    "df['Precio Normal'] = df['Precio Normal'].astype(float)\n",
    "df['Precio Oferta'] = df['Precio Oferta'].astype(float)\n",
    "\n",
    "df[\"Ahorro\"] = df[\"Precio Normal\"] - df[\"Precio Oferta\"]\n",
    "\n",
    "df\n",
    "\n",
    "#df.sort_values(by='Ahorro', ascending=False).iloc[61:80]"
   ]
  },
  {
   "cell_type": "code",
   "execution_count": 10,
   "metadata": {},
   "outputs": [
    {
     "data": {
      "application/vnd.microsoft.datawrangler.viewer.v0+json": {
       "columns": [
        {
         "name": "index",
         "rawType": "int64",
         "type": "integer"
        },
        {
         "name": "Productos",
         "rawType": "object",
         "type": "string"
        },
        {
         "name": "Precio Normal",
         "rawType": "float64",
         "type": "float"
        },
        {
         "name": "Precio Oferta",
         "rawType": "float64",
         "type": "float"
        },
        {
         "name": "Ahorro",
         "rawType": "float64",
         "type": "float"
        }
       ],
       "conversionMethod": "pd.DataFrame",
       "ref": "ee2b8b4c-4360-4797-aebe-8298b23f53b0",
       "rows": [
        [
         "316",
         "Kiosko Queso Mozarella Light 700g",
         "8.57",
         "6.86",
         "1.71"
        ],
        [
         "312",
         "La Holandesa Queso Cheddar 400g",
         "7.29",
         "5.83",
         "1.46"
        ],
        [
         "314",
         "La Holandesa Queso Holandes Rebanadas 400g",
         "7.29",
         "5.83",
         "1.46"
        ],
        [
         "291",
         "Floralp Queso Holandés Rebanado 400g",
         "7.18",
         "5.74",
         "1.4399999999999995"
        ],
        [
         "297",
         "Floralp Queso Surtido Gourmet 350g",
         "6.19",
         "4.95",
         "1.2400000000000002"
        ],
        [
         "311",
         "La Holandesa Queso Mozarella 700g",
         "7.91",
         "6.72",
         "1.1900000000000004"
        ],
        [
         "288",
         "Reyqueso Fresco 700 g",
         "5.89",
         "4.71",
         "1.1799999999999997"
        ],
        [
         "290",
         "Queso Crema Reyqueso 500g",
         "3.4",
         "2.72",
         "0.6799999999999997"
        ],
        [
         "294",
         "Floralp Queso Parmesano Rallado 100g",
         "2.76",
         "2.21",
         "0.5499999999999998"
        ],
        [
         "306",
         "Toni Queso Crema 250g",
         "2.39",
         "1.91",
         "0.4800000000000002"
        ],
        [
         "224",
         "Supermaxi Puré de Papa 4 Quesos 125g",
         "2.02",
         "1.72",
         "0.30000000000000004"
        ],
        [
         "202",
         "Supermaxi Triangulitos Queso 350g",
         "2.77",
         "2.47",
         "0.2999999999999998"
        ]
       ],
       "shape": {
        "columns": 4,
        "rows": 12
       }
      },
      "text/html": [
       "<div>\n",
       "<style scoped>\n",
       "    .dataframe tbody tr th:only-of-type {\n",
       "        vertical-align: middle;\n",
       "    }\n",
       "\n",
       "    .dataframe tbody tr th {\n",
       "        vertical-align: top;\n",
       "    }\n",
       "\n",
       "    .dataframe thead th {\n",
       "        text-align: right;\n",
       "    }\n",
       "</style>\n",
       "<table border=\"1\" class=\"dataframe\">\n",
       "  <thead>\n",
       "    <tr style=\"text-align: right;\">\n",
       "      <th></th>\n",
       "      <th>Productos</th>\n",
       "      <th>Precio Normal</th>\n",
       "      <th>Precio Oferta</th>\n",
       "      <th>Ahorro</th>\n",
       "    </tr>\n",
       "  </thead>\n",
       "  <tbody>\n",
       "    <tr>\n",
       "      <th>316</th>\n",
       "      <td>Kiosko Queso Mozarella Light 700g</td>\n",
       "      <td>8.57</td>\n",
       "      <td>6.86</td>\n",
       "      <td>1.71</td>\n",
       "    </tr>\n",
       "    <tr>\n",
       "      <th>312</th>\n",
       "      <td>La Holandesa Queso Cheddar 400g</td>\n",
       "      <td>7.29</td>\n",
       "      <td>5.83</td>\n",
       "      <td>1.46</td>\n",
       "    </tr>\n",
       "    <tr>\n",
       "      <th>314</th>\n",
       "      <td>La Holandesa Queso Holandes Rebanadas 400g</td>\n",
       "      <td>7.29</td>\n",
       "      <td>5.83</td>\n",
       "      <td>1.46</td>\n",
       "    </tr>\n",
       "    <tr>\n",
       "      <th>291</th>\n",
       "      <td>Floralp Queso Holandés Rebanado 400g</td>\n",
       "      <td>7.18</td>\n",
       "      <td>5.74</td>\n",
       "      <td>1.44</td>\n",
       "    </tr>\n",
       "    <tr>\n",
       "      <th>297</th>\n",
       "      <td>Floralp Queso Surtido Gourmet 350g</td>\n",
       "      <td>6.19</td>\n",
       "      <td>4.95</td>\n",
       "      <td>1.24</td>\n",
       "    </tr>\n",
       "    <tr>\n",
       "      <th>311</th>\n",
       "      <td>La Holandesa Queso Mozarella 700g</td>\n",
       "      <td>7.91</td>\n",
       "      <td>6.72</td>\n",
       "      <td>1.19</td>\n",
       "    </tr>\n",
       "    <tr>\n",
       "      <th>288</th>\n",
       "      <td>Reyqueso Fresco 700 g</td>\n",
       "      <td>5.89</td>\n",
       "      <td>4.71</td>\n",
       "      <td>1.18</td>\n",
       "    </tr>\n",
       "    <tr>\n",
       "      <th>290</th>\n",
       "      <td>Queso Crema Reyqueso 500g</td>\n",
       "      <td>3.40</td>\n",
       "      <td>2.72</td>\n",
       "      <td>0.68</td>\n",
       "    </tr>\n",
       "    <tr>\n",
       "      <th>294</th>\n",
       "      <td>Floralp Queso Parmesano Rallado 100g</td>\n",
       "      <td>2.76</td>\n",
       "      <td>2.21</td>\n",
       "      <td>0.55</td>\n",
       "    </tr>\n",
       "    <tr>\n",
       "      <th>306</th>\n",
       "      <td>Toni Queso Crema 250g</td>\n",
       "      <td>2.39</td>\n",
       "      <td>1.91</td>\n",
       "      <td>0.48</td>\n",
       "    </tr>\n",
       "    <tr>\n",
       "      <th>224</th>\n",
       "      <td>Supermaxi Puré de Papa 4 Quesos 125g</td>\n",
       "      <td>2.02</td>\n",
       "      <td>1.72</td>\n",
       "      <td>0.30</td>\n",
       "    </tr>\n",
       "    <tr>\n",
       "      <th>202</th>\n",
       "      <td>Supermaxi Triangulitos Queso 350g</td>\n",
       "      <td>2.77</td>\n",
       "      <td>2.47</td>\n",
       "      <td>0.30</td>\n",
       "    </tr>\n",
       "  </tbody>\n",
       "</table>\n",
       "</div>"
      ],
      "text/plain": [
       "                                      Productos  Precio Normal  Precio Oferta  \\\n",
       "316           Kiosko Queso Mozarella Light 700g           8.57           6.86   \n",
       "312             La Holandesa Queso Cheddar 400g           7.29           5.83   \n",
       "314  La Holandesa Queso Holandes Rebanadas 400g           7.29           5.83   \n",
       "291        Floralp Queso Holandés Rebanado 400g           7.18           5.74   \n",
       "297          Floralp Queso Surtido Gourmet 350g           6.19           4.95   \n",
       "311           La Holandesa Queso Mozarella 700g           7.91           6.72   \n",
       "288                       Reyqueso Fresco 700 g           5.89           4.71   \n",
       "290                   Queso Crema Reyqueso 500g           3.40           2.72   \n",
       "294        Floralp Queso Parmesano Rallado 100g           2.76           2.21   \n",
       "306                       Toni Queso Crema 250g           2.39           1.91   \n",
       "224        Supermaxi Puré de Papa 4 Quesos 125g           2.02           1.72   \n",
       "202           Supermaxi Triangulitos Queso 350g           2.77           2.47   \n",
       "\n",
       "     Ahorro  \n",
       "316    1.71  \n",
       "312    1.46  \n",
       "314    1.46  \n",
       "291    1.44  \n",
       "297    1.24  \n",
       "311    1.19  \n",
       "288    1.18  \n",
       "290    0.68  \n",
       "294    0.55  \n",
       "306    0.48  \n",
       "224    0.30  \n",
       "202    0.30  "
      ]
     },
     "execution_count": 10,
     "metadata": {},
     "output_type": "execute_result"
    }
   ],
   "source": [
    "df[df['Productos'].str.contains('queso', case=False, na=False)].sort_values(by='Ahorro', ascending=False)"
   ]
  }
 ],
 "metadata": {
  "kernelspec": {
   "display_name": "base",
   "language": "python",
   "name": "python3"
  },
  "language_info": {
   "codemirror_mode": {
    "name": "ipython",
    "version": 3
   },
   "file_extension": ".py",
   "mimetype": "text/x-python",
   "name": "python",
   "nbconvert_exporter": "python",
   "pygments_lexer": "ipython3",
   "version": "3.12.7"
  }
 },
 "nbformat": 4,
 "nbformat_minor": 2
}
